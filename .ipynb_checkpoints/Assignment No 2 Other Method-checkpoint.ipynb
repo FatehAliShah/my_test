{
 "cells": [
  {
   "cell_type": "markdown",
   "metadata": {},
   "source": [
    "# To Do Application"
   ]
  },
  {
   "cell_type": "code",
   "execution_count": 17,
   "metadata": {},
   "outputs": [
    {
     "name": "stdout",
     "output_type": "stream",
     "text": [
      "Enter today's performed task Wakeup\n",
      "your pending tasks are:, ['Fasting', 'Praying', 'Sleeping', 'Office', 'Home', 'Aftari', 'Again Sleeping']\n",
      "your completed task:['Wakeup']\n"
     ]
    }
   ],
   "source": [
    "task_list=['wakeup','fasting','praying','sleeping','office','home','aftari','again sleeping']\n",
    "task_list=['Wakeup','Fasting','Praying','Sleeping','Office','Home','Aftari','Again Sleeping']\n",
    "empty_list=[]\n",
    "task_select=input(\"Enter today's performed task \")\n",
    "if task_select in task_list:\n",
    "    store_task=task_list.index(task_select)\n",
    "    task_list.pop(store_task)\n",
    "    empty_list.append(task_select)\n",
    "    print(f\"your pending tasks are:, {task_list}\")\n",
    "    print(f\"your completed task:{empty_list}\")\n",
    "else:\n",
    "    print(\"your task is not listed\")"
   ]
  },
  {
   "cell_type": "code",
   "execution_count": null,
   "metadata": {},
   "outputs": [],
   "source": []
  }
 ],
 "metadata": {
  "kernelspec": {
   "display_name": "Python 3",
   "language": "python",
   "name": "python3"
  },
  "language_info": {
   "codemirror_mode": {
    "name": "ipython",
    "version": 3
   },
   "file_extension": ".py",
   "mimetype": "text/x-python",
   "name": "python",
   "nbconvert_exporter": "python",
   "pygments_lexer": "ipython3",
   "version": "3.7.3"
  }
 },
 "nbformat": 4,
 "nbformat_minor": 2
}
