{
 "cells": [
  {
   "cell_type": "code",
   "execution_count": 34,
   "metadata": {},
   "outputs": [
    {
     "name": "stdout",
     "output_type": "stream",
     "text": [
      "PLEASE INSERT YOUR CARD! (Y/N) Y\n",
      "ENTER YOUR 4 DIGIT PIN NUMBER 1234\n",
      "YOU WANT WITHDRAWAL OR DEPOSIT ? (W/D) W\n",
      "ENTER AMOUNT: 50000\n",
      "TAKE YOUR CASH!\n",
      "THANK YOU FOR YOU CHOOSE THIS ATM MACHINE!\n",
      "YOUR CURRENT BALANCE IS : 0\n"
     ]
    }
   ],
   "source": [
    "CARD = input('PLEASE INSERT YOUR CARD! (Y/N) ').lower()\n",
    "ACC_BALANCE=50000\n",
    "if CARD == 'y':\n",
    "    PIN = int(input('ENTER YOUR 4 DIGIT PIN NUMBER '))\n",
    "    if PIN == 1234:\n",
    "        STATUS= input('YOU WANT WITHDRAWAL OR DEPOSIT ? (W/D) ').lower()\n",
    "        if STATUS == 'w':\n",
    "            AMOUNT = int(input('ENTER AMOUNT: '))\n",
    "            if (AMOUNT % 500 == 0):\n",
    "                if ACC_BALANCE >=AMOUNT:\n",
    "                    \n",
    "                    ACC_BALANCE = ACC_BALANCE- AMOUNT\n",
    "                    print('TAKE YOUR CASH!')\n",
    "                    print('THANK YOU FOR YOU CHOOSE THIS ATM MACHINE!')\n",
    "                    print(f'YOUR CURRENT BALANCE IS : {ACC_BALANCE}')\n",
    "                else:\n",
    "                    print('CASH OUT OF LIMIT!')\n",
    "            else:\n",
    "                print('INVALID AMOUNT YOU ENTER!')\n",
    "        elif STATUS == 'd':\n",
    "            AMOUNT = int(input('ENTER AMOUNT: '))\n",
    "            if (AMOUNT % 500 == 0):\n",
    "                ACC_BALANCE = ACC_BALANCE+ AMOUNT\n",
    "                print('TAKE CASH IS DEPOSITED!')\n",
    "                print('THANK YOU FOR YOU CHOOSE THIS ATM MACHINE!')\n",
    "                print(f'YOUR CURRENT BALANCE IS : {ACC_BALANCE}')\n",
    "            else:\n",
    "                print('INVALID AMOUNT YOU ENTER!')\n",
    "        else:\n",
    "            print('ENTER WRONG CHARACTER')\n",
    "    else:\n",
    "        print ('INVALID PIN NUMBER TRY AGAIN!')\n",
    "else:\n",
    "    print ('PLEASE INSERT YOUR CARD!')\n"
   ]
  },
  {
   "cell_type": "code",
   "execution_count": null,
   "metadata": {},
   "outputs": [],
   "source": []
  },
  {
   "cell_type": "code",
   "execution_count": null,
   "metadata": {},
   "outputs": [],
   "source": []
  }
 ],
 "metadata": {
  "kernelspec": {
   "display_name": "Python 3",
   "language": "python",
   "name": "python3"
  },
  "language_info": {
   "codemirror_mode": {
    "name": "ipython",
    "version": 3
   },
   "file_extension": ".py",
   "mimetype": "text/x-python",
   "name": "python",
   "nbconvert_exporter": "python",
   "pygments_lexer": "ipython3",
   "version": "3.6.5"
  }
 },
 "nbformat": 4,
 "nbformat_minor": 2
}
